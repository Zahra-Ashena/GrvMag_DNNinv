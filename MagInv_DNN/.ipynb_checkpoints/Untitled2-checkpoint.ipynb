{
 "cells": [
  {
   "cell_type": "code",
   "execution_count": 151,
   "id": "599d448e-a4ca-44ac-b19f-144e50032b07",
   "metadata": {},
   "outputs": [],
   "source": [
    "import json\n",
    "import numpy as np\n",
    "ndata = '100k'\n",
    "nexp = '1'\n",
    "\n",
    "with open(f'rtpB{ndata}_mp{nexp}.txt','r') as f:\n",
    "    model_params = json.load(f)\n",
    "    \n",
    "xobs = np.array(model_params['xobs'])\n",
    "pad_x = model_params['pad_x']\n",
    "tot_px = model_params['tot_px']\n",
    "\n",
    "\n",
    "\"\"\" LOADING TRAINING DATA \"\"\"\n",
    "\n",
    "nin = np.shape(xobs)[0]                             # number of input nodes\n",
    "nout = tot_px"
   ]
  },
  {
   "cell_type": "code",
   "execution_count": 152,
   "id": "65d41cf6-0139-409a-bfdd-5bd4043a56e2",
   "metadata": {},
   "outputs": [],
   "source": [
    "data = np.load(f\"rtpB{ndata}_d{nexp}.npy\")"
   ]
  },
  {
   "cell_type": "code",
   "execution_count": 153,
   "id": "80f98869-88b3-4915-8dd6-c66f8c425e46",
   "metadata": {},
   "outputs": [],
   "source": [
    "from sklearn.model_selection import train_test_split\n",
    "from sklearn.preprocessing import MinMaxScaler\n",
    "from sklearn.preprocessing import StandardScaler\n",
    "from sklearn.preprocessing import Normalizer\n",
    "norm = Normalizer()\n",
    "scaler = MinMaxScaler()"
   ]
  },
  {
   "cell_type": "code",
   "execution_count": 154,
   "id": "4883c6a1-0d73-40fe-b073-435711d7608e",
   "metadata": {},
   "outputs": [],
   "source": [
    "train_set_full, test_set = train_test_split(data, test_size = 0.1, random_state = 42)\n",
    "train_set, valid_set = train_test_split(train_set_full, test_size = 0.1, random_state = 42)\n",
    "input_train_full = train_set_full[:,0:nin]\n",
    "labels_train_full = train_set_full[:,nin:]\n",
    "input_train = train_set[:,0:nin]\n",
    "labels_train = train_set[:,nin:]\n",
    "input_test = test_set[:,0:nin]\n",
    "labels_test = test_set[:,nin:]\n",
    "input_valid = valid_set[:,0:nin]\n",
    "labels_valid = valid_set[:,nin:]"
   ]
  },
  {
   "cell_type": "code",
   "execution_count": 160,
   "id": "64749079-e1c3-48d9-a005-717929733fee",
   "metadata": {},
   "outputs": [],
   "source": [
    "X_train = input_train_full\n",
    "# X_trn = np.transpose(X_train1)\n",
    "# X_trn_nrm = norm.fit(X_trn)\n",
    "# X_trn_nrm = X_trn_nrm.transform(X_trn)\n",
    "X_train = X_train/1000.\n",
    "# X_tr = scaler.fit_transform(np.transpose(X_train))\n",
    "# X_train = np.transpose(X_trn_nrm)\n",
    "# y_train = labels_train_full\n",
    "# X_test1 = input_test\n",
    "# X_tst = np.transpose(X_test1)\n",
    "# X_tst_nrm = norm.fit(X_tst)\n",
    "# X_tst_nrm = X_tst_nrm.transform(X_tst)\n",
    "# X_test = X_test/1000.\n",
    "# X_te = scaler.fit_transform(np.transpose(X_test))\n",
    "X_test = np.transpose(X_tst_nrm)\n",
    "y_test = labels_test"
   ]
  },
  {
   "cell_type": "code",
   "execution_count": 161,
   "id": "dae60709-cf79-4415-b2b0-1a483ea19ba8",
   "metadata": {},
   "outputs": [
    {
     "data": {
      "text/plain": [
       "array([[0.0027979, 0.0027965, 0.0027958, ..., 0.0027474, 0.0027483,\n",
       "        0.002749 ],\n",
       "       [0.0032592, 0.0033859, 0.0034868, ..., 0.0034132, 0.0034314,\n",
       "        0.003469 ],\n",
       "       [0.0038516, 0.0041413, 0.0044005, ..., 0.0048523, 0.0048509,\n",
       "        0.0048497],\n",
       "       ...,\n",
       "       [0.0033608, 0.0033258, 0.0032891, ..., 0.0030442, 0.0030443,\n",
       "        0.0030444],\n",
       "       [0.004168 , 0.0041468, 0.0041704, ..., 0.0052763, 0.0051961,\n",
       "        0.0050858],\n",
       "       [0.0022565, 0.002255 , 0.002254 , ..., 0.002605 , 0.0025898,\n",
       "        0.0025681]])"
      ]
     },
     "execution_count": 161,
     "metadata": {},
     "output_type": "execute_result"
    }
   ],
   "source": [
    "X_train"
   ]
  },
  {
   "cell_type": "code",
   "execution_count": 125,
   "id": "d37738e0-3ef0-4d6c-a73e-d82bb3bfd5a5",
   "metadata": {},
   "outputs": [
    {
     "data": {
      "text/plain": [
       "True"
      ]
     },
     "execution_count": 125,
     "metadata": {},
     "output_type": "execute_result"
    }
   ],
   "source": [
    "# np.isnan(X_train.any())\n",
    "np.isfinite(X_train.all())"
   ]
  },
  {
   "cell_type": "code",
   "execution_count": null,
   "id": "da6d57c5-80a5-488a-a675-9eaa76b9824a",
   "metadata": {},
   "outputs": [
    {
     "data": {
      "text/plain": [
       "True"
      ]
     },
     "execution_count": 126,
     "metadata": {},
     "output_type": "execute_result"
    }
   ],
   "source": [
    "np.all(np.isfinite(X_train))\n",
    "# np.any(np.isinf(X_train))\n",
    "# np.all(np.isinf(X_train))"
   ]
  },
  {
   "cell_type": "code",
   "execution_count": null,
   "id": "1dbbb50e-79ad-46ad-bd5b-3ef2dc693bd7",
   "metadata": {},
   "outputs": [
    {
     "data": {
      "text/plain": [
       "array([[False, False, False, ..., False, False, False],\n",
       "       [False, False, False, ..., False, False, False],\n",
       "       [False, False, False, ..., False, False, False],\n",
       "       ...,\n",
       "       [False, False, False, ..., False, False, False],\n",
       "       [False, False, False, ..., False, False, False],\n",
       "       [False, False, False, ..., False, False, False]])"
      ]
     },
     "execution_count": 127,
     "metadata": {},
     "output_type": "execute_result"
    }
   ],
   "source": [
    "np.isinf(X_train)"
   ]
  },
  {
   "cell_type": "code",
   "execution_count": null,
   "id": "07aa08fa-2123-4698-b9a8-4257050ae5c4",
   "metadata": {},
   "outputs": [
    {
     "data": {
      "text/plain": [
       "array([0.97612575, 0.32494235, 0.5528125 , 0.60143354, 0.92990732,\n",
       "       0.74049252, 0.05455324, 0.20371317, 0.52693268, 0.45435798,\n",
       "       0.88831803, 0.5391066 , 0.87845678, 0.99422485, 0.03390811,\n",
       "       0.00164638, 0.47960267, 0.09497383, 0.61395462, 0.04683684,\n",
       "       0.94137622, 0.35413582, 0.12055277, 0.67528223, 0.61148378,\n",
       "       0.32967161, 0.98692202, 0.7950884 , 0.92048279, 0.84993772,\n",
       "       0.92013808, 0.13002445, 0.58477481, 0.36278821, 0.98242884,\n",
       "       0.36944045, 0.00556322, 0.99848678, 0.01745435, 0.47758017,\n",
       "       0.62253391, 1.        , 0.99795155, 0.16831515, 0.184153  ,\n",
       "       0.06427771, 0.46560712, 0.31184251, 0.02504056, 0.87315537,\n",
       "       0.90926098, 0.99394699, 0.89246998, 0.        , 0.83286766,\n",
       "       0.1418717 , 0.4000944 , 0.91591298, 0.46324134, 0.41580042,\n",
       "       0.9955955 , 0.50746693, 0.20949637, 0.93295648, 0.14824708,\n",
       "       0.28128475, 0.0172749 , 0.55580648, 0.17210289, 0.44176387,\n",
       "       0.96725774, 0.87848204, 0.81821273, 0.16365311, 0.92843753,\n",
       "       0.12384046, 0.20321361, 0.98439185, 0.23441852, 0.99812836,\n",
       "       0.11920121, 0.88531797, 0.01765958, 0.79946107, 0.66310671,\n",
       "       0.97286718, 0.08286377, 0.00305458, 0.11136229, 0.06099706])"
      ]
     },
     "execution_count": 128,
     "metadata": {},
     "output_type": "execute_result"
    }
   ],
   "source": [
    "X_tr[1]"
   ]
  }
 ],
 "metadata": {
  "kernelspec": {
   "display_name": "Python 3 (ipykernel)",
   "language": "python",
   "name": "python3"
  },
  "language_info": {
   "codemirror_mode": {
    "name": "ipython",
    "version": 3
   },
   "file_extension": ".py",
   "mimetype": "text/x-python",
   "name": "python",
   "nbconvert_exporter": "python",
   "pygments_lexer": "ipython3",
   "version": "3.10.7"
  }
 },
 "nbformat": 4,
 "nbformat_minor": 5
}
