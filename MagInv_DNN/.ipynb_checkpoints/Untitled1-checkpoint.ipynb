{
 "cells": [
  {
   "cell_type": "code",
   "execution_count": 3,
   "id": "4a82f920-7a8d-4da4-98a1-8665d7a1ef3a",
   "metadata": {},
   "outputs": [],
   "source": [
    "import numpy as np\n",
    "import math\n",
    "from ForwardModels2D import MAGNETIC\n",
    "from RandomModels2D import LayersPrisms2D\n",
    "import matplotlib.pyplot as plt\n",
    "from math import *\n",
    "from RandomModels2D import LayersPrisms2D\n",
    "import random\n",
    "\n",
    "MAG = MAGNETIC()\n",
    "RD = LayersPrisms2D()\n",
    "\n",
    "reg_len = 80.0 \n",
    "lm = 80.0/2\n",
    "\n",
    "# Forward Model\n",
    "lp = 1.0\n",
    "xmodel = np.arange(-lm,lm+lp,lp)\n",
    "ymodel = np.array([0.0,10*lp])\n",
    "zmodel = np.array([0.0,15.0])\n",
    "p = int((xmodel[-1] - xmodel[0])/lp)                                     # number of prisms in x-direction\n",
    "nanom = np.array([1,5])                                                  # maximum number of anomalies in the model\n",
    "lanom = np.array([4,20])                                                 # maximum length of an anomaly\n",
    "# pad_x =ceil(lanom*1.5)                                                 # padding around the model to avoid boundary effects\n",
    "# pad_x =lanom[1]-lanom[0]\n",
    "pad_x = lanom[1]*2\n",
    "tot_px = p + 2*pad_x                                                     # total number of pixels in x-direction\n",
    "# xobs = np.arange(xmodel[0] + lp/2,xmodel[-1]+lp/2,lp)\n",
    "xobs = np.arange(xmodel[0] + lp/2,xmodel[-1]+lp/2,lp)\n",
    "\n",
    "nobs = np.shape(xobs)[0]\n",
    "yobs = 0.\n",
    "zobs = 0.\n",
    "\n",
    "#salt\n",
    "rho_salt = -400.0\n",
    "salt_topo_rng = np.array([3.0,10.0])                                      # the approximate depth range of the basement topography\n",
    "salt_dep_avg  = np.array([4.0,8.0])\n",
    "\n",
    "#basement \n",
    "rho_base = 200.0                                                           # the approximate max depth of the basement topography\n",
    "bas_topo_rng = np.array([5.0,11.0])                                        # the approximate depth range of the basement topography\n",
    "bas_dep_avg  = np.array([6.0,9.0])\n",
    "\n",
    "# mag params\n",
    "inc_obs = 70.\n",
    "dec_obs = 10.\n",
    "inc_m = 70.\n",
    "dec_m = 10.\n",
    "MI2 = 0.03\n",
    "\n",
    "lq = ymodel[1]-ymodel[0]\n",
    "\n",
    "ym_c = 0.\n",
    "xreg = np.arange(xmodel[0] - lp*pad_x, xmodel[-1] + lp*pad_x,lp)\n",
    "xm_c= xreg[0:-1] +lp/2\n",
    "lxm = lp\n",
    "lym = lq\n",
    "ntrain = 10\n",
    "\n",
    "model_params = dict(xdim_model= xmodel,ydim_model= ymodel,\n",
    "                    zdim_model= zmodel, max_num_anom= nanom,\n",
    "                    max_anom_len=lanom,pad_x=pad_x,xobs=xobs,yobs = yobs,\n",
    "                    zobs=zobs,rho_salt= rho_salt,rho_base= rho_base, inc_obs = inc_obs,dec_obs = dec_obs, inc_m =inc_m,dec_m = dec_m,num_train=ntrain,\n",
    "                    bas_topo_rng= bas_topo_rng,bas_dep_avg= bas_dep_avg)"
   ]
  },
  {
   "cell_type": "code",
   "execution_count": 4,
   "id": "08f860b1-1609-48a7-86a2-121ddc6df731",
   "metadata": {},
   "outputs": [],
   "source": [
    "rnd_num_anom = random.choice(range(nanom[0],nanom[1]))"
   ]
  },
  {
   "cell_type": "code",
   "execution_count": 5,
   "id": "d11fc547-5261-4740-a60d-c77dd5076583",
   "metadata": {},
   "outputs": [
    {
     "data": {
      "text/plain": [
       "2"
      ]
     },
     "execution_count": 5,
     "metadata": {},
     "output_type": "execute_result"
    }
   ],
   "source": [
    "rnd_num_anom"
   ]
  },
  {
   "cell_type": "code",
   "execution_count": 6,
   "id": "6567d23b-9744-40f8-ab49-a1606d1d049b",
   "metadata": {},
   "outputs": [
    {
     "data": {
      "text/plain": [
       "[19, 46]"
      ]
     },
     "execution_count": 6,
     "metadata": {},
     "output_type": "execute_result"
    }
   ],
   "source": [
    "rnd_prisms_anom = random.sample(range(lanom[0],p-lanom[0]),k=rnd_num_anom) \n",
    "rnd_prisms_anom"
   ]
  },
  {
   "cell_type": "code",
   "execution_count": null,
   "id": "aac08c1d-755c-4d72-b933-13984632e9df",
   "metadata": {},
   "outputs": [],
   "source": []
  }
 ],
 "metadata": {
  "kernelspec": {
   "display_name": "Python 3 (ipykernel)",
   "language": "python",
   "name": "python3"
  },
  "language_info": {
   "codemirror_mode": {
    "name": "ipython",
    "version": 3
   },
   "file_extension": ".py",
   "mimetype": "text/x-python",
   "name": "python",
   "nbconvert_exporter": "python",
   "pygments_lexer": "ipython3",
   "version": "3.10.7"
  }
 },
 "nbformat": 4,
 "nbformat_minor": 5
}
