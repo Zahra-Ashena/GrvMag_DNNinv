{
 "cells": [
  {
   "cell_type": "code",
   "execution_count": null,
   "metadata": {},
   "outputs": [],
   "source": [
    "import numpy as np\n",
    "import matplotlib.pyplot as plt\n",
    "import matplotlib.gridspec as gridspec\n",
    "import json"
   ]
  },
  {
   "cell_type": "code",
   "execution_count": null,
   "metadata": {},
   "outputs": [],
   "source": [
    "len_obs = 80.0\n",
    "ndata = '10k'\n",
    "nset = '1'\n",
    "nfig = '1'\n",
    "ns = '0%'\n",
    "\n",
    "with open(f'N{ndata}_D{nset}.txt','r') as f:\n",
    "    FM_params  = json.load(f)\n",
    "\n",
    "y_fm = FM_params['y_fm']\n",
    "x_fm = FM_params['x_fm']\n",
    "z_fm = FM_params['z_fm']\n",
    "y_obs = np.array(FM_params['y_obs'])\n",
    "x_obs = FM_params['x_obs']\n",
    "pad = FM_params['pad']\n",
    "tot_p = FM_params['tot_p']\n",
    "w = FM_params['w_smooth']\n",
    "len_p = y_fm[1] - y_fm[0]\n",
    "num_ps = int((y_fm[-1] - y_fm[0])/len_p)  \n",
    "\n",
    "with open(f'PredFig{nfig}_ns{ns}.txt','r') as f:\n",
    "    FigData = json.load(f)\n",
    "\n",
    "mag_sim = FigData['mag_sim']\n",
    "mag_pred = FigData['mag_pred'] \n",
    "topobase_sim = FigData['topobase_sim'] \n",
    "topobase_pred = FigData['topobase_pred']"
   ]
  },
  {
   "cell_type": "code",
   "execution_count": null,
   "metadata": {},
   "outputs": [],
   "source": [
    "pm = num_ps+1\n",
    "dbase_sim_plt = topobase_sim[pad:pm+pad]\n",
    "dbase_pred_plt = topobase_pred[pad:pm+pad]\n",
    "xplt =  y_fm\n",
    "\n",
    "fig1 = plt.figure(figsize=(8, 4.4))\n",
    "gs0 = gridspec.GridSpec(2, 1, figure=fig1, height_ratios=[2, 3],hspace=0.2)\n",
    "\n",
    "gs00 = gridspec.GridSpecFromSubplotSpec(1, 1, subplot_spec=gs0[0],hspace=0.2)\n",
    "ax1 = fig1.add_subplot(gs00[0])\n",
    "\n",
    "ax1.plot(xplt[:-1],mag_sim,c='r',linestyle='-',linewidth=1.1,label = \"Simulation\")\n",
    "ax1.plot(xplt[:-1],mag_pred,c='blue',linestyle='--',linewidth=1.1,label = \"Prediction\")\n",
    "\n",
    "ax1.axis(xmin = xplt[0],xmax= xplt[-1])\n",
    "# ax1.set_xlabel('xobs(km)',fontsize=8)\n",
    "ax1.set_ylabel(\"DRTP-TF(nT)\",fontsize=10)\n",
    "ax1.legend(loc='upper right',fontsize=10)\n",
    "plt.xticks(fontsize=12)\n",
    "plt.yticks(fontsize=12)\n",
    "gs01 = gs0[1].subgridspec(1, 1)\n",
    "ax2 = fig1.add_subplot(gs01[0])\n",
    "base_pred = np.zeros((pm+3,2))\n",
    "base_pred[:pm,0] = xplt\n",
    "base_pred[:pm,1] = dbase_pred_plt\n",
    "base_pred[-1,:] = [xplt[0],dbase_pred_plt[0]]\n",
    "base_pred[-2,:] = [xplt[0],z_fm[1]]\n",
    "base_pred[-3,:] = [xplt[-1],z_fm[1]]\n",
    "base_sim = np.zeros((pm+3,2))\n",
    "base_sim[:pm,0] = xplt\n",
    "base_sim[:pm,1] = dbase_sim_plt\n",
    "base_sim[-1,:] = [xplt[0],dbase_sim_plt[0]]\n",
    "base_sim[-2,:] = [xplt[0],z_fm[1]]\n",
    "base_sim[-3,:] = [xplt[-1],z_fm[1]]\n",
    "\n",
    "sed_pred = np.zeros((pm+3,2))\n",
    "sed_pred[0,:] = [xplt[0],z_fm[0]]\n",
    "sed_pred[1,:] = [xplt[-1],z_fm[0]]\n",
    "sed_pred[-1,:] = [xplt[0],z_fm[0]]\n",
    "sed_pred[2:pm+2,0] = np.flip(xplt)\n",
    "sed_pred[2:pm+2,1] = np.flip(dbase_pred_plt)\n",
    "\n",
    "ax2.axis(xmin = xplt[0],xmax= xplt[-1])\n",
    "ax2.set_ylim(z_fm[1],0)\n",
    "# ax2.set_xlabel('X(km)')\n",
    "ax2.set_ylabel(\"Depth(km)\",fontsize=12)\n",
    "ax2.set_xlabel('Distance(km)',fontsize=12)\n",
    "# ax2.set_title('Prediction',loc='right',fontsize=8)\n",
    "ax2.fill(base_pred[:,0],base_pred[:,1],facecolor='slategray', edgecolor='black', linewidth=0.3,alpha=1)\n",
    "ax2.fill(sed_pred[:,0],sed_pred[:,1],facecolor= 'lightgrey', edgecolor='black', linewidth=0.3,label = \"prediction\")\n",
    "\n",
    "# ax2.fill(base_sim[:,0],base_sim[:,1],facecolor='firebrick', edgecolor='black', linewidth=0.3,alpha=0.2)\n",
    "ax2.plot(xplt,dbase_sim_plt,'w',linestyle='--',linewidth=1.7 )\n",
    "\n",
    "# plt.setp(ax2.get_xticklabels(), visible=False)\n",
    "plt.xticks(fontsize=12)\n",
    "plt.yticks(fontsize=12)\n",
    "plt.show()"
   ]
  }
 ],
 "metadata": {
  "kernelspec": {
   "display_name": "Python 3",
   "language": "python",
   "name": "python3"
  },
  "language_info": {
   "name": "python",
   "version": "3.10.7"
  },
  "orig_nbformat": 4,
  "vscode": {
   "interpreter": {
    "hash": "dee524ac1bdec8140fa2f9ea215b9134edb69c686e38c4b7302051d1098d2cf1"
   }
  }
 },
 "nbformat": 4,
 "nbformat_minor": 2
}
