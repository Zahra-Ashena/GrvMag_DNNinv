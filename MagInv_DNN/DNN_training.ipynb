{
 "cells": [
  {
   "cell_type": "markdown",
   "metadata": {},
   "source": [
    "DNN Model Training for Inversion of Magnetic Data\n",
    "====================================================\n",
    "\n",
    "This script trains Deep Neural Network (DNN) models using simulated magnetic data sets. The goal is to perform inversion of magnetic data to estimate basement topography.\n",
    "\n",
    "Author: Zahra Ashena;\n",
    "Date: July 2023"
   ]
  },
  {
   "cell_type": "code",
   "execution_count": null,
   "metadata": {},
   "outputs": [],
   "source": [
    "import numpy as np\n",
    "from tensorflow import keras\n",
    "from sklearn.model_selection import train_test_split\n",
    "from keras.wrappers.scikit_learn import KerasRegressor\n",
    "from sklearn.model_selection import cross_val_score\n",
    "from sklearn.model_selection import KFold\n",
    "from sklearn.metrics import mean_squared_error\n",
    "from sklearn.preprocessing import MinMaxScaler\n",
    "from sklearn.preprocessing import StandardScaler\n",
    "from sklearn.preprocessing import Normalizer\n",
    "from NeuralNetwork import NeuralNetwork\n",
    "import json\n",
    "import matplotlib.pyplot as plt\n",
    "\n",
    "\n",
    "# NN = NeuralNetwork()\n",
    "# scaler = StandardScaler()\n",
    "# # scaler = MinMaxScaler()\n",
    "# norm = Normalizer()"
   ]
  },
  {
   "attachments": {},
   "cell_type": "markdown",
   "metadata": {},
   "source": [
    "Load the forward model parameters "
   ]
  },
  {
   "cell_type": "code",
   "execution_count": null,
   "metadata": {},
   "outputs": [],
   "source": [
    "len_obs = 100.0\n",
    "ndata = '100k'\n",
    "nset = '1'\n",
    "nexp = '1'\n",
    "\n",
    "with open(f'N{ndata}_D{nset}.txt','r') as f:\n",
    "    FM_params  = json.load(f)\n",
    "\n",
    "y_obs = np.array(FM_params['y_obs'])\n",
    "pad_x = FM_params['pad']\n",
    "tot_p = FM_params['tot_p']"
   ]
  },
  {
   "attachments": {},
   "cell_type": "markdown",
   "metadata": {},
   "source": [
    "Load training dataset"
   ]
  },
  {
   "cell_type": "code",
   "execution_count": 2,
   "metadata": {},
   "outputs": [],
   "source": [
    "data = np.load(f\"N{ndata}_D{nset}.npy\")\n",
    "nin = np.shape(y_obs)[0]                             \n",
    "nout = tot_p"
   ]
  },
  {
   "attachments": {},
   "cell_type": "markdown",
   "metadata": {},
   "source": [
    "Split the training set"
   ]
  },
  {
   "cell_type": "code",
   "execution_count": 3,
   "metadata": {},
   "outputs": [],
   "source": [
    "train_set_full, test_set = train_test_split(data, test_size = 0.1, random_state = 42)\n",
    "train_set, valid_set = train_test_split(train_set_full, test_size = 0.1, random_state = 42)\n",
    "input_train_full = train_set_full[:,:nin]\n",
    "labels_train_full = train_set_full[:,nin:]\n",
    "input_test = test_set[:,:nin]\n",
    "labels_test = test_set[:,nin:]\n",
    "\n",
    "# input_train = train_set[:,:nin]\n",
    "# labels_train = train_set[:,nin:]\n",
    "# input_valid = valid_set[:,:nin]\n",
    "# labels_valid = valid_set[:,nin:]\n",
    "\n",
    "input_train = input_train_full\n",
    "output_train = labels_train_full\n",
    "# Input_trn = np.transpose(Input)\n",
    "# Input_nrm = norm.fit_transform(Input)\n",
    "# Input_nrm = np.transpose(Input_nrm)\n",
    "\n",
    "input_test = input_test\n",
    "output_test = labels_test\n",
    "# test_trn = np.transpose(Input_test)\n",
    "# test_nrm = norm.fit_transform(test_trn)\n",
    "# test_trn = np.transpose(test_nrm)\n"
   ]
  },
  {
   "attachments": {},
   "cell_type": "markdown",
   "metadata": {},
   "source": [
    "Deep Neural Network (DNN) model definition"
   ]
  },
  {
   "cell_type": "code",
   "execution_count": null,
   "metadata": {},
   "outputs": [],
   "source": [
    "def DNN_MLP (nhiddens,nneurons,optimizer,activation , initializer):\n",
    "\n",
    "    model = keras.models.Sequential()\n",
    "    model.add(keras.layers.InputLayer(input_shape= [nin]))\n",
    "    # keras.layers.BatchNormalization()\n",
    "    for h in range(nhiddens):\n",
    "        keras.layers.Dropout(rate=0.1)\n",
    "        # regularizerLayers = partial(keras.layers.Dense,activation = activation,kernel_initializer= initializer)\n",
    "        # model.add(regularizerLayers(num_neurons))\n",
    "        model.add(keras.layers.Dense(nneurons, kernel_initializer=initializer,activation=activation))\n",
    "        # keras.layers.BatchNormalization()\n",
    "\n",
    "    model.add(keras.layers.Dense(nout))\n",
    "    metric = keras.metrics.MeanSquaredError(name=\"mean_squared_error\", dtype=None)\n",
    "    model.compile(loss = \"MeanSquaredError\", optimizer=optimizer, metrics=metric)          \n",
    "\n",
    "    return model\n",
    "\n",
    "\n"
   ]
  },
  {
   "attachments": {},
   "cell_type": "markdown",
   "metadata": {},
   "source": [
    "DNN model hyperparameters"
   ]
  },
  {
   "cell_type": "code",
   "execution_count": null,
   "metadata": {},
   "outputs": [],
   "source": [
    "num_hiddens = 3\n",
    "num_neurons= 300\n",
    "epochs=10\n",
    "batch_size = 32\n",
    "\n",
    "\"\"\" Options for initializer\"\"\"\n",
    "# initializer = keras.initializers.GlorotNormal()\n",
    "# initializer = keras.initializers.HeNormal(seed=None)\n",
    "initializer = keras.initializers.RandomNormal()\n",
    "\n",
    "\"\"\" Options for activation\"\"\"\n",
    "activation = keras.activations.elu\n",
    "\n",
    "\"\"\" Options for optimizer\"\"\"\n",
    "# exponential schedule\n",
    "# s= epochs * len(X_train) // batch_size     # number of steps in 20 epochs (batch size = 32)\n",
    "#learning_rate = keras.optimizers.schedules.ExponentialDecay(initial_learning_rate=0.003, decay_steps=s, decay_rate=0.1, staircase=False)\n",
    "# optimizers\n",
    "learning_rate=0.0001\n",
    "optimizer = keras.optimizers.RMSprop(learning_rate=learning_rate, rho=0.9)\n",
    "# optimizer=keras.optimizers.Adam(learning_rate=learning_rate,beta_1=0.9, beta_2= 0.999)\n",
    "# optimizer = keras.optimizers.SGD(learning_rate)\n",
    "# power scheduling\n",
    "# optimizer = keras.optimizers.SGD(lr=0.1,  decay=1e-1)\n"
   ]
  },
  {
   "attachments": {},
   "cell_type": "markdown",
   "metadata": {},
   "source": [
    "Model training"
   ]
  },
  {
   "cell_type": "code",
   "execution_count": null,
   "metadata": {},
   "outputs": [],
   "source": [
    "model = DNN_MLP(num_hiddens,num_neurons,optimizer,activation = activation,initializer= initializer)\n",
    "# checkpoint_cb = keras.callbacks.ModelCheckpoint(\"model_2Dlayers.h5\",save_best_only=True)\n",
    "# early_stopping_cb = keras.callbacks.EarlyStopping(patience=10,restore_best_weights =True)\n",
    "# history = model.fit(X_train,y_train, epochs=epochs, validation_split=0.1, callbacks=[checkpoint_cb,early_stopping_cb])\n",
    "history = model.fit(input_train,output_train, batch_size = batch_size, epochs=epochs, validation_split=0.1)\n",
    "\n",
    "model.save(f'N{ndata}_D{nset}_M{nexp}.h5')"
   ]
  },
  {
   "attachments": {},
   "cell_type": "markdown",
   "metadata": {},
   "source": [
    "Save and Plot the training history"
   ]
  },
  {
   "cell_type": "code",
   "execution_count": null,
   "metadata": {},
   "outputs": [],
   "source": [
    "history_dict = history.history\n",
    "with open(f'N{ndata}_D{nset}_M{nexp}_history.txt','w') as f:\n",
    "    f.write(json.dumps(history_dict))  \n",
    "\n",
    "loss_values = history_dict['loss']\n",
    "val_loss_values = history_dict['val_loss']\n",
    "epochs = range(1, epochs + 1)\n",
    "plt.plot(epochs, loss_values, 'b-', label='Training loss')\n",
    "plt.plot(epochs, val_loss_values, 'r-', label='Validation loss')\n",
    "plt.title('Training and validation loss')\n",
    "plt.xlabel('Epochs')\n",
    "plt.ylabel('Mean Squared Error')\n",
    "plt.legend()\n",
    "plt.show()\n",
    "\n"
   ]
  },
  {
   "cell_type": "code",
   "execution_count": null,
   "metadata": {},
   "outputs": [],
   "source": [
    "acc_values = history_dict['mean_squared_error']\n",
    "val_acc_values = history_dict['val_mean_squared_error']\n",
    "plt.plot(epochs, acc_values, 'b-', label='Training')\n",
    "plt.plot(epochs, val_acc_values, 'r--', label='Validation')\n",
    "plt.title('Training and validation accuracy')\n",
    "plt.xlabel('Epochs')\n",
    "plt.ylabel('Mean Squared Error')\n",
    "plt.legend()\n",
    "plt.savefig('MSE.pdf') \n",
    "plt.show()"
   ]
  },
  {
   "attachments": {},
   "cell_type": "markdown",
   "metadata": {},
   "source": [
    "Evaluate DNN model on the test set"
   ]
  },
  {
   "cell_type": "code",
   "execution_count": null,
   "metadata": {},
   "outputs": [],
   "source": [
    "test_mse = model.evaluate(input_test,labels_test)\n",
    "print (\"Test MSE: \", test_mse)"
   ]
  },
  {
   "attachments": {},
   "cell_type": "markdown",
   "metadata": {},
   "source": [
    "Save the forward model parameters and DNN model hyperparameters"
   ]
  },
  {
   "cell_type": "code",
   "execution_count": null,
   "metadata": {},
   "outputs": [],
   "source": [
    "train_params = dict(name_data=f'rtpB{ndata}_m{nexp}.npy', num_hiddens=num_hiddens,num_neurons=num_neurons,epochs=epochs,batch_size=batch_size,\n",
    "optimizer = optimizer,learning_rate=learning_rate,activation = activation,initializer= initializer)  \n",
    "  \n",
    "with open(f\"rtpB{ndata}_tp{nexp}.txt\", 'w') as f: \n",
    "    for key, value in FM_params.items(): \n",
    "        f.write('%s:%s\\n' % (key, value))\n",
    "        \n",
    "    for key, value in train_params.items(): \n",
    "        f.write('%s:%s\\n' % (key, value))"
   ]
  }
 ],
 "metadata": {
  "kernelspec": {
   "display_name": "Python 3",
   "language": "python",
   "name": "python3"
  },
  "language_info": {
   "codemirror_mode": {
    "name": "ipython",
    "version": 3
   },
   "file_extension": ".py",
   "mimetype": "text/x-python",
   "name": "python",
   "nbconvert_exporter": "python",
   "pygments_lexer": "ipython3",
   "version": "3.10.7"
  },
  "orig_nbformat": 4,
  "vscode": {
   "interpreter": {
    "hash": "dee524ac1bdec8140fa2f9ea215b9134edb69c686e38c4b7302051d1098d2cf1"
   }
  }
 },
 "nbformat": 4,
 "nbformat_minor": 2
}
