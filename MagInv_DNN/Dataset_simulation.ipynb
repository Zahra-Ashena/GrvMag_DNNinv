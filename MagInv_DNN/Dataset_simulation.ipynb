{
 "cells": [
  {
   "cell_type": "markdown",
   "metadata": {},
   "source": [
    "Magnetic Training Data Set Simulation\n",
    "=====================================\n",
    "\n",
    "This script simulates magnetic training data sets by designing a forward model and setting its dimensions. It assigns the physical and structural properties to the forward model to generate synthetic magnetic data.\n",
    "\n",
    "The forward model represents a mathematical model that relates the physical properties of a system to its observed magnetic behavior. By simulating magnetic data, this script allows for testing and training machine learning models on synthetic data before applying them to real-world magnetic data sets.\n",
    "\n",
    "The training dat set is composed og magnetic anomaly as input and basement topography as output.\n",
    "\n",
    "Author: Zahra Ashena;\n",
    "Date: July 2023"
   ]
  },
  {
   "cell_type": "code",
   "execution_count": null,
   "metadata": {},
   "outputs": [],
   "source": [
    "import numpy as np\n",
    "from ForwardModel2D_MaG import MAGNETIC\n",
    "from RandomModels2D import TopographyRand\n",
    "import json\n",
    "import multiprocessing "
   ]
  },
  {
   "cell_type": "code",
   "execution_count": null,
   "metadata": {},
   "outputs": [],
   "source": [
    "MAG = MAGNETIC()\n",
    "TR = TopographyRand()"
   ]
  },
  {
   "attachments": {},
   "cell_type": "markdown",
   "metadata": {},
   "source": [
    "Select the lenght of trainig set to be simulated (e.g. ntrain = 100000)\n",
    "and the lenght of the observation profile (same as lenght of the forward model) in kilometers\n",
    "e.g. len_fm = 100.0"
   ]
  },
  {
   "cell_type": "code",
   "execution_count": null,
   "metadata": {},
   "outputs": [],
   "source": [
    "ntrain  = 100000\n",
    "len_obs = 100.0\n",
    "ndata = '100k'\n",
    "nset = '1'"
   ]
  },
  {
   "attachments": {},
   "cell_type": "markdown",
   "metadata": {},
   "source": [
    "Forward model dimentions and coordinates "
   ]
  },
  {
   "cell_type": "code",
   "execution_count": null,
   "metadata": {},
   "outputs": [],
   "source": [
    "len_p = 1.0                                           # lenght of each prism in km\n",
    "len_fm = len_obs                                      # lenght of the forward model in km\n",
    "wd_fm = 20*len_p                                      # width of the forward model in km\n",
    "y_fm = np.arange(-len_fm/2,(len_fm/2)+len_p,len_p)\n",
    "x_fm = np.array([0.0,wd_fm])\n",
    "z_fm = np.array([0.0,12.0])\n",
    "num_ps = int((y_fm[-1] - y_fm[0])/len_p)              # number of prisms "
   ]
  },
  {
   "attachments": {},
   "cell_type": "markdown",
   "metadata": {},
   "source": [
    "Observation coordinates and main field parameters"
   ]
  },
  {
   "cell_type": "code",
   "execution_count": null,
   "metadata": {},
   "outputs": [],
   "source": [
    "y_obs = np.arange(y_fm[0] + len_p/2,y_fm[-1]+len_p/2,len_p)\n",
    "x_obs = 0.\n",
    "z_obs = 0.\n",
    "nobs = np.shape(y_obs)[0]\n",
    "inc_obs = 90.                                                # inclination of the observation\n",
    "dec_obs = 0.                                                 # declination of the observation"
   ]
  },
  {
   "attachments": {},
   "cell_type": "markdown",
   "metadata": {},
   "source": [
    "Structural parameters of the forward model"
   ]
  },
  {
   "cell_type": "code",
   "execution_count": null,
   "metadata": {},
   "outputs": [],
   "source": [
    "num_anom = np.array([1,8])                                    # min and max number of anomalies\n",
    "len_anom = np.array([4,20])                                      # min and max length of an anomaly in km\n",
    "dep_avg  = np.array([5.0,9.0])                            # the range to choose the average depth of the basement \n",
    "topo = np.array([3.0,11.0])                               # the range to choose the topography of the basement \n",
    "pad = len_anom[1]*2                                              # number of prisms to be padded to the model to avoid edge effects\n",
    "tot_p = num_ps + 2*pad                                        # total number of prisms"
   ]
  },
  {
   "attachments": {},
   "cell_type": "markdown",
   "metadata": {},
   "source": [
    "Physical and Main field parameters of the forward model"
   ]
  },
  {
   "cell_type": "code",
   "execution_count": null,
   "metadata": {},
   "outputs": [],
   "source": [
    "inc_p = np.ones(tot_p) * 90.                                # inclination of the prisms\n",
    "dec_p = np.ones(tot_p) * 0.                                 # declination of the prisms\n",
    "K = np.ones(tot_p)*0.005                                    # susceptiblity of the prisms"
   ]
  },
  {
   "attachments": {},
   "cell_type": "markdown",
   "metadata": {},
   "source": [
    "Save variables into a dictionary"
   ]
  },
  {
   "cell_type": "code",
   "execution_count": null,
   "metadata": {},
   "outputs": [],
   "source": [
    "if_smooth = True                                           # to smooth the totpography \n",
    "w_smooth = 10                                              # the more the smother topography\n",
    "\n",
    "FM_params = {'y_fm': y_fm.tolist(),'y_fm':x_fm.tolist(),\n",
    "                    'z_fm': z_fm.tolist(), 'num_anom': num_anom.tolist(),\n",
    "                    'anom_len':len_anom.tolist(),'pad':int(pad),'tot_p': int(tot_p),'x_obs':x_obs,'y_obs': y_obs.tolist(),\n",
    "                    'z_obs':z_obs,'K': K.tolist(), 'inc_obs': inc_obs,'dec_obs': dec_obs, 'inc_p':inc_p.tolist(),'dec_p': dec_p.tolist(),'num_train':ntrain,\n",
    "                    'topo': topo.tolist(),'dep_avg': dep_avg.tolist(),'wsmooth': w_smooth}\n",
    "\n",
    "with open(f'N{ndata}_D{nset}.txt','w') as f:\n",
    "    f.write(json.dumps(FM_params)) "
   ]
  },
  {
   "attachments": {},
   "cell_type": "markdown",
   "metadata": {},
   "source": [
    "Dataset simulation:\n",
    "Given the number of data, in each iteration a random basement topography is created. Then the magnetic anomaly\n",
    "of the basement is calcuted. The final training set is composed of magnetic anomaly of each forward model coupled \n",
    "with its basement topography"
   ]
  },
  {
   "cell_type": "code",
   "execution_count": null,
   "metadata": {},
   "outputs": [],
   "source": [
    "y_reg = np.arange(y_fm[0] - len_p*pad, y_fm[-1] + len_p*pad,len_p)\n",
    "Zp_dw = np.repeat(z_fm[1],tot_p)\n",
    "lx = x_fm[1]-x_fm[0]\n",
    "ly = y_fm[1]-y_fm[0]\n",
    "Yp_c = y_reg + len_p/2\n",
    "Xp_c = np.repeat(lx/2,tot_p)"
   ]
  },
  {
   "cell_type": "code",
   "execution_count": null,
   "metadata": {},
   "outputs": [],
   "source": [
    "def ParForward(i):\n",
    "\n",
    "    depth_base = TR.topo_base_rand(**FM_params)\n",
    "    Zp_up = depth_base\n",
    "    mag = np.zeros(nobs)\n",
    "    for j in range(nobs):\n",
    "        mag1 = MAG.MaG_Layer2D(lx, ly, x_obs, y_obs[j], Xp_c, Yp_c, Zp_up, Zp_dw, inc_obs, dec_obs, inc_p, dec_p)\n",
    "        mag[j] = np.dot(mag1,K) \n",
    "\n",
    "    return np.append(mag,depth_base)"
   ]
  },
  {
   "cell_type": "code",
   "execution_count": null,
   "metadata": {},
   "outputs": [],
   "source": [
    "if __name__=='__main__':\n",
    "\n",
    "    cpunumbers = multiprocessing.cpu_count()\n",
    "            \n",
    "    pro = multiprocessing.Pool(cpunumbers-2)\n",
    "    train_set_fin = pro.map(ParForward, np.arange(ntrain))\n",
    "            \n",
    "    pro.close()\n",
    "    pro.join()\n",
    "    \n",
    "    np.save(f\"N{ndata}_D{nset}.npy\", train_set_fin)"
   ]
  }
 ],
 "metadata": {
  "language_info": {
   "name": "python"
  },
  "orig_nbformat": 4
 },
 "nbformat": 4,
 "nbformat_minor": 2
}
