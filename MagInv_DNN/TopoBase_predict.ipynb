{
 "cells": [
  {
   "cell_type": "markdown",
   "metadata": {},
   "source": [
    "Prediction of Basement Topography using Trained DNN Model\n",
    "========================================================\n",
    "\n",
    "This script uses a trained DNN model to predict the basement topography based on unseen magnetic data. The DNN model has been previously trained on simulated magnetic data sets and is now applied to new magnetic data.\n",
    "\n",
    "Author: Zahra Ashena;\n",
    "Date: July 2023"
   ]
  },
  {
   "cell_type": "code",
   "execution_count": null,
   "metadata": {},
   "outputs": [],
   "source": [
    "from tensorflow import keras\n",
    "import numpy as np\n",
    "from sklearn.metrics import mean_squared_error\n",
    "from sklearn.preprocessing import StandardScaler\n",
    "import matplotlib.pyplot as plt\n",
    "from Mag_SimData.ForwardModel2D_MaG import MAGNETIC\n",
    "from Mag_SimData.RandomModels2D import TopographyRand\n",
    "from sklearn.preprocessing import MinMaxScaler\n",
    "from sklearn.preprocessing import Normalizer\n",
    "import matplotlib.gridspec as gridspec\n",
    "import json\n",
    "\n",
    "MAG = MAGNETIC()\n",
    "TR = TopographyRand()\n",
    "# scaler = MinMaxScaler()\n",
    "# norm = Normalizer()"
   ]
  },
  {
   "attachments": {},
   "cell_type": "markdown",
   "metadata": {},
   "source": [
    "Load the forward model parameters"
   ]
  },
  {
   "cell_type": "code",
   "execution_count": null,
   "metadata": {},
   "outputs": [],
   "source": [
    "len_obs = 80.0\n",
    "ndata = '10k'\n",
    "nset = '1'\n",
    "nexp = '1'\n",
    "ns = '0%'\n",
    "noise = 0.1\n",
    "nfig ='1'\n",
    "\n",
    "with open(f'N{ndata}_D{nset}.txt','r') as f:\n",
    "    FM_params  = json.load(f)\n",
    "\n",
    "y_fm = FM_params['y_fm']\n",
    "x_fm = FM_params['x_fm']\n",
    "z_fm = FM_params['z_fm']\n",
    "y_obs = np.array(FM_params['y_obs'])\n",
    "x_obs = FM_params['x_obs']\n",
    "pad = FM_params['pad']\n",
    "tot_p = FM_params['tot_p']\n",
    "w = FM_params['w_smooth']\n",
    "len_p = y_fm[1] - y_fm[0]\n",
    "num_ps = int((y_fm[-1] - y_fm[0])/len_p)  \n",
    "K = FM_params['K']\n",
    "inc_obs = FM_params['inc_obs']\n",
    "dec_obs = FM_params['dec_obs']\n",
    "inc_p = np.array(FM_params['inc_p'])\n",
    "dec_p = np.array(FM_params['dec_p'])"
   ]
  },
  {
   "attachments": {},
   "cell_type": "markdown",
   "metadata": {},
   "source": [
    "Load the trained DNN model"
   ]
  },
  {
   "cell_type": "code",
   "execution_count": null,
   "metadata": {},
   "outputs": [],
   "source": [
    "DNN_model = keras.models.load_model(f'N{ndata}_D{nset}_M{nexp}.h5')"
   ]
  },
  {
   "attachments": {},
   "cell_type": "markdown",
   "metadata": {},
   "source": [
    "Create an unseen synthetic data"
   ]
  },
  {
   "cell_type": "code",
   "execution_count": null,
   "metadata": {},
   "outputs": [],
   "source": [
    "topobase_sim = TR.topo_base_rand(**FM_params)\n",
    "y_reg = np.arange(y_fm[0] - len_p*pad, y_fm[-1] + len_p*pad,len_p)\n",
    "lx = x_fm[1]-x_fm[0]\n",
    "ly = y_fm[1]-y_fm[0]\n",
    "Yp_c = y_reg + len_p/2\n",
    "Xp_c = np.repeat(lx/2,tot_p)\n",
    "Zp_dw = np.repeat(z_fm[1],tot_p)\n",
    "Zp_up = topobase_sim\n",
    "nobs = np.shape(y_obs)[0]      \n",
    "mag_sim = np.zeros(nobs)\n",
    "for i in range(nobs):\n",
    "    magi = MAG.MaG_Layer2D(lx, ly, x_obs, y_obs[i], Xp_c, Yp_c, Zp_up, Zp_dw, inc_obs, dec_obs, inc_p, dec_p)\n",
    "    mag_sim[i] = np.dot(magi,K) "
   ]
  },
  {
   "attachments": {},
   "cell_type": "markdown",
   "metadata": {},
   "source": [
    "Adding noise to the synthetic unseen data"
   ]
  },
  {
   "cell_type": "code",
   "execution_count": null,
   "metadata": {},
   "outputs": [],
   "source": [
    "# mag_sim = np.add(mag_sim,np.random.normal(0,mag_sim.std(), nobs)*noise)"
   ]
  },
  {
   "attachments": {},
   "cell_type": "markdown",
   "metadata": {},
   "source": [
    "DNN model prediction"
   ]
  },
  {
   "cell_type": "code",
   "execution_count": null,
   "metadata": {},
   "outputs": [],
   "source": [
    "topobase_pred = DNN_model.predict(np.reshape(mag_sim, (-1,nobs)))\n",
    "topobase_pred = np.reshape(topobase_pred,(tot_p))"
   ]
  },
  {
   "attachments": {},
   "cell_type": "markdown",
   "metadata": {},
   "source": [
    "Calculate the magnetic anomaly of the predicted basement"
   ]
  },
  {
   "cell_type": "code",
   "execution_count": null,
   "metadata": {},
   "outputs": [],
   "source": [
    "mag_pred = np.zeros(nobs)\n",
    "Zp_up_pre = topobase_pred\n",
    "mag_pred = np.zeros(nobs)\n",
    "for j in range(nobs):\n",
    "    magj = MAG.MaG_Layer2D(lx, ly, x_obs, y_obs[j], Xp_c, Yp_c, Zp_up_pre, Zp_dw, inc_obs, dec_obs, inc_p, dec_p)\n",
    "    mag_pred[j] = np.dot(magj,K) \n",
    "\n",
    "# mag_pred = np.reshape(mag_pred,nobs)\n",
    "\n",
    "# Smooth the predicted topography\n",
    "topobase_pred = np.convolve(topobase_pred, np.ones(w),'same') / w\n",
    "edg = int(np.floor(w/2))\n",
    "topobase_pred[:edg] = topobase_pred[edg+1]\n",
    "topobase_pred[-edg:] = topobase_pred[-edg-1]\n",
    "\n",
    "test_mse = mean_squared_error(topobase_sim,topobase_pred)\n",
    "print (\"Test MSE: \", test_mse)"
   ]
  },
  {
   "attachments": {},
   "cell_type": "markdown",
   "metadata": {},
   "source": [
    "Plot the results"
   ]
  },
  {
   "cell_type": "code",
   "execution_count": null,
   "metadata": {},
   "outputs": [],
   "source": [
    "pm = num_ps+1\n",
    "dbase_sim_plt = topobase_sim[pad:pm+pad]\n",
    "dbase_pred_plt = topobase_pred[pad:pm+pad]\n",
    "xplt =  y_fm\n",
    "\n",
    "fig1 = plt.figure(figsize=(8, 4.4))\n",
    "gs0 = gridspec.GridSpec(2, 1, figure=fig1, height_ratios=[2, 3],hspace=0.2)\n",
    "\n",
    "gs00 = gridspec.GridSpecFromSubplotSpec(1, 1, subplot_spec=gs0[0],hspace=0.2)\n",
    "ax1 = fig1.add_subplot(gs00[0])\n",
    "\n",
    "ax1.plot(xplt[:-1],mag_sim,c='r',linestyle='-',linewidth=1.1,label = \"Simulation\")\n",
    "ax1.plot(xplt[:-1],mag_pred,c='blue',linestyle='--',linewidth=1.1,label = \"Prediction\")\n",
    "\n",
    "ax1.axis(xmin = xplt[0],xmax= xplt[-1])\n",
    "# ax1.set_xlabel('xobs(km)',fontsize=8)\n",
    "ax1.set_ylabel(\"DRTP-TF(nT)\",fontsize=10)\n",
    "ax1.legend(loc='upper right',fontsize=10)\n",
    "plt.xticks(fontsize=12)\n",
    "plt.yticks(fontsize=12)\n",
    "gs01 = gs0[1].subgridspec(1, 1)\n",
    "ax2 = fig1.add_subplot(gs01[0])\n",
    "base_pred = np.zeros((pm+3,2))\n",
    "base_pred[:pm,0] = xplt\n",
    "base_pred[:pm,1] = dbase_pred_plt\n",
    "base_pred[-1,:] = [xplt[0],dbase_pred_plt[0]]\n",
    "base_pred[-2,:] = [xplt[0],z_fm[1]]\n",
    "base_pred[-3,:] = [xplt[-1],z_fm[1]]\n",
    "base_sim = np.zeros((pm+3,2))\n",
    "base_sim[:pm,0] = xplt\n",
    "base_sim[:pm,1] = dbase_sim_plt\n",
    "base_sim[-1,:] = [xplt[0],dbase_sim_plt[0]]\n",
    "base_sim[-2,:] = [xplt[0],z_fm[1]]\n",
    "base_sim[-3,:] = [xplt[-1],z_fm[1]]\n",
    "\n",
    "sed_pred = np.zeros((pm+3,2))\n",
    "sed_pred[0,:] = [xplt[0],z_fm[0]]\n",
    "sed_pred[1,:] = [xplt[-1],z_fm[0]]\n",
    "sed_pred[-1,:] = [xplt[0],z_fm[0]]\n",
    "sed_pred[2:pm+2,0] = np.flip(xplt)\n",
    "sed_pred[2:pm+2,1] = np.flip(dbase_pred_plt)\n",
    "\n",
    "ax2.axis(xmin = xplt[0],xmax= xplt[-1])\n",
    "ax2.set_ylim(z_fm[1],0)\n",
    "# ax2.set_xlabel('X(km)')\n",
    "ax2.set_ylabel(\"Depth(km)\",fontsize=12)\n",
    "ax2.set_xlabel('Distance(km)',fontsize=12)\n",
    "# ax2.set_title('Prediction',loc='right',fontsize=8)\n",
    "ax2.fill(base_pred[:,0],base_pred[:,1],facecolor='slategray', edgecolor='black', linewidth=0.3,alpha=1)\n",
    "ax2.fill(sed_pred[:,0],sed_pred[:,1],facecolor= 'lightgrey', edgecolor='black', linewidth=0.3,label = \"prediction\")\n",
    "\n",
    "# ax2.fill(base_sim[:,0],base_sim[:,1],facecolor='firebrick', edgecolor='black', linewidth=0.3,alpha=0.2)\n",
    "ax2.plot(xplt,dbase_sim_plt,'w',linestyle='--',linewidth=1.7 )\n",
    "\n",
    "# plt.setp(ax2.get_xticklabels(), visible=False)\n",
    "plt.xticks(fontsize=12)\n",
    "plt.yticks(fontsize=12)\n",
    "# plt.savefig(f'PredFig{nfig}_ns{ns}.pdf') \n",
    "plt.show()"
   ]
  },
  {
   "attachments": {},
   "cell_type": "markdown",
   "metadata": {},
   "source": [
    "Save synthetic and prediction data"
   ]
  },
  {
   "cell_type": "code",
   "execution_count": null,
   "metadata": {},
   "outputs": [],
   "source": [
    "syn_pred = {'mag_sim': mag_sim.tolist(),'mag_pred': mag_pred.tolist(),\n",
    "           'topobase_syn':topobase_sim.tolist(),'topobase_pred': topobase_pred.tolist(), \n",
    "           'TestMSE':test_mse}\n",
    "\n",
    "with open(f'PredFig{nfig}_ns{ns}.txt','w') as f:\n",
    "    f.write(json.dumps(syn_pred)) \n"
   ]
  }
 ],
 "metadata": {
  "language_info": {
   "name": "python"
  },
  "orig_nbformat": 4
 },
 "nbformat": 4,
 "nbformat_minor": 2
}
