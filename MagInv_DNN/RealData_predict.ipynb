{
 "cells": [
  {
   "cell_type": "code",
   "execution_count": null,
   "metadata": {},
   "outputs": [],
   "source": [
    "import numpy as np\n",
    "from tensorflow import keras\n",
    "from ForwardModel2D_MaG import MAGNETIC\n",
    "from sklearn.metrics import mean_squared_error\n",
    "from sklearn.preprocessing import StandardScaler\n",
    "import matplotlib.pyplot as plt\n",
    "from sklearn.preprocessing import MinMaxScaler\n",
    "from sklearn.preprocessing import Normalizer\n",
    "import matplotlib.gridspec as gridspec\n",
    "import json\n",
    "\n",
    "MAG = MAGNETIC()"
   ]
  },
  {
   "attachments": {},
   "cell_type": "markdown",
   "metadata": {},
   "source": [
    "Load the real data"
   ]
  },
  {
   "cell_type": "code",
   "execution_count": null,
   "metadata": {},
   "outputs": [],
   "source": [
    "len_obs = 100.0\n",
    "ndata = '100k'\n",
    "nset = '1'\n",
    "nexp = '1'\n",
    "prof = '1'\n",
    "real_data= np.genfromtxt(f'P{prof}.csv', delimiter=',',skip_header=True)\n",
    "mag = real_data[:,-1] "
   ]
  },
  {
   "attachments": {},
   "cell_type": "markdown",
   "metadata": {},
   "source": [
    "Load forward model parameters and DNN model"
   ]
  },
  {
   "cell_type": "code",
   "execution_count": null,
   "metadata": {},
   "outputs": [],
   "source": [
    "with open(f'N{ndata}_D{nset}.txt','r') as f:\n",
    "    FM_params  = json.load(f)\n",
    "\n",
    "y_fm = FM_params['y_fm']\n",
    "x_fm = FM_params['x_fm']\n",
    "z_fm = FM_params['z_fm']\n",
    "y_obs = np.array(FM_params['y_obs'])\n",
    "x_obs = FM_params['x_obs']\n",
    "pad = FM_params['pad']\n",
    "tot_p = FM_params['tot_p']\n",
    "w = FM_params['w_smooth']\n",
    "len_p = y_fm[1] - y_fm[0]\n",
    "num_ps = int((y_fm[-1] - y_fm[0])/len_p)  \n",
    "K = FM_params['K']\n",
    "inc_obs = FM_params['inc_obs']\n",
    "dec_obs = FM_params['dec_obs']\n",
    "inc_p = np.array(FM_params['inc_m'])\n",
    "dec_p = np.array(FM_params['dec_m'])\n",
    "nobs = np.shape(y_obs)[0] \n",
    "\n",
    "DNN_model = keras.models.load_model(f'N{ndata}_D{nset}_M{nexp}.h5')"
   ]
  },
  {
   "attachments": {},
   "cell_type": "markdown",
   "metadata": {},
   "source": [
    "DNN model prediction on real data"
   ]
  },
  {
   "cell_type": "code",
   "execution_count": null,
   "metadata": {},
   "outputs": [],
   "source": [
    "topo_real = DNN_model.predict(np.reshape(mag, (-1,nobs)))\n",
    "topo_real = np.reshape(topo_real,tot_p)"
   ]
  },
  {
   "attachments": {},
   "cell_type": "markdown",
   "metadata": {},
   "source": [
    "Calculate the magnetic anomaly of the real basement"
   ]
  },
  {
   "cell_type": "code",
   "execution_count": null,
   "metadata": {},
   "outputs": [],
   "source": [
    "y_reg = np.arange(y_fm[0] - len_p*pad, y_fm[-1] + len_p*pad,len_p)\n",
    "lx = x_fm[1]-x_fm[0]\n",
    "ly = y_fm[1]-y_fm[0]\n",
    "Yp_c = y_reg + len_p/2\n",
    "Xp_c = np.repeat(lx/2,tot_p)\n",
    "Zp_dw = np.repeat(z_fm[1],tot_p)\n",
    "Zp_up_pre = topo_real\n",
    "mag_pred = np.zeros(nobs)\n",
    "for j in range(nobs):\n",
    "    magj = MAG.MaG_Layer2D(lx, ly, x_obs, y_obs[j], Xp_c, Yp_c, Zp_up_pre, Zp_dw, inc_obs, dec_obs, inc_p, dec_p)\n",
    "    mag_pred[j] = np.dot(magj,K) "
   ]
  },
  {
   "attachments": {},
   "cell_type": "markdown",
   "metadata": {},
   "source": [
    "Plot the results"
   ]
  },
  {
   "cell_type": "code",
   "execution_count": null,
   "metadata": {},
   "outputs": [],
   "source": [
    "pm = num_ps+1\n",
    "topo_real_plt = topo_real[pad:pm+pad]\n",
    "xplt =  y_fm\n",
    "\n",
    "fig1 = plt.figure(figsize=(8, 4.4))\n",
    "gs0 = gridspec.GridSpec(2, 1, figure=fig1, height_ratios=[2, 3],hspace=0.2)\n",
    "\n",
    "gs00 = gridspec.GridSpecFromSubplotSpec(1, 1, subplot_spec=gs0[0],hspace=0.2)\n",
    "ax1 = fig1.add_subplot(gs00[0])\n",
    "\n",
    "ax1.plot(xplt[:-1],mag,c='r',linestyle='-',linewidth=1.1,label = \"Simulation\")\n",
    "ax1.plot(xplt[:-1],mag_pred,c='blue',linestyle='--',linewidth=1.1,label = \"Prediction\")\n",
    "\n",
    "ax1.axis(xmin = xplt[0],xmax= xplt[-1])\n",
    "# ax1.set_xlabel('xobs(km)',fontsize=8)\n",
    "ax1.set_ylabel(\"DRTP-TF(nT)\",fontsize=10)\n",
    "ax1.legend(loc='upper right',fontsize=10)\n",
    "plt.xticks(fontsize=12)\n",
    "plt.yticks(fontsize=12)\n",
    "gs01 = gs0[1].subgridspec(1, 1)\n",
    "ax2 = fig1.add_subplot(gs01[0])\n",
    "base_pred = np.zeros((pm+3,2))\n",
    "base_pred[:pm,0] = xplt\n",
    "base_pred[:pm,1] = topo_real_plt\n",
    "base_pred[-1,:] = [xplt[0],topo_real_plt[0]]\n",
    "base_pred[-2,:] = [xplt[0],z_fm[1]]\n",
    "base_pred[-3,:] = [xplt[-1],z_fm[1]]\n",
    "base_sim = np.zeros((pm+3,2))\n",
    "base_sim[:pm,0] = xplt\n",
    "base_sim[:pm,1] = topo_real_plt\n",
    "base_sim[-1,:] = [xplt[0],topo_real_plt[0]]\n",
    "base_sim[-2,:] = [xplt[0],z_fm[1]]\n",
    "base_sim[-3,:] = [xplt[-1],z_fm[1]]\n",
    "\n",
    "sed_pred = np.zeros((pm+3,2))\n",
    "sed_pred[0,:] = [xplt[0],z_fm[0]]\n",
    "sed_pred[1,:] = [xplt[-1],z_fm[0]]\n",
    "sed_pred[-1,:] = [xplt[0],z_fm[0]]\n",
    "sed_pred[2:pm+2,0] = np.flip(xplt)\n",
    "sed_pred[2:pm+2,1] = np.flip(topo_real_plt)\n",
    "\n",
    "ax2.axis(xmin = xplt[0],xmax= xplt[-1])\n",
    "ax2.set_ylim(z_fm[1],0)\n",
    "# ax2.set_xlabel('X(km)')\n",
    "ax2.set_ylabel(\"Depth(km)\",fontsize=12)\n",
    "ax2.set_xlabel('Distance(km)',fontsize=12)\n",
    "# ax2.set_title('Prediction',loc='right',fontsize=8)\n",
    "ax2.fill(base_pred[:,0],base_pred[:,1],facecolor='slategray', edgecolor='black', linewidth=0.3,alpha=1)\n",
    "ax2.fill(sed_pred[:,0],sed_pred[:,1],facecolor= 'lightgrey', edgecolor='black', linewidth=0.3,label = \"prediction\")\n",
    "\n",
    "# ax2.fill(base_sim[:,0],base_sim[:,1],facecolor='firebrick', edgecolor='black', linewidth=0.3,alpha=0.2)\n",
    "ax2.plot(xplt,topo_real_plt,'w',linestyle='--',linewidth=1.7 )\n",
    "\n",
    "# plt.setp(ax2.get_xticklabels(), visible=False)\n",
    "plt.xticks(fontsize=12)\n",
    "plt.yticks(fontsize=12)\n",
    "plt.savefig(f'Profile{prof}.pdf') \n",
    "plt.show()"
   ]
  }
 ],
 "metadata": {
  "language_info": {
   "name": "python"
  },
  "orig_nbformat": 4
 },
 "nbformat": 4,
 "nbformat_minor": 2
}
